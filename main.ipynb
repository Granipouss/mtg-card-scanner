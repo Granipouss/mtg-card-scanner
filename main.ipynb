{
 "cells": [
  {
   "cell_type": "code",
   "execution_count": 1,
   "metadata": {},
   "outputs": [],
   "source": [
    "REFS_FOLDER = \"refs\"\n",
    "TESTS_FOLDER = \"tests\"\n",
    "SCRYFALL_FILE = \"scryfall.json\"\n",
    "INDEX_FILE = \"index.bin\"\n",
    "DATABASE_FILE = \"data.db\"\n"
   ]
  },
  {
   "cell_type": "code",
   "execution_count": 14,
   "metadata": {},
   "outputs": [],
   "source": [
    "import requests\n",
    "\n",
    "# oracle_cards | unique_artwork | default_cards | all_cards | rulings\n",
    "DATATYPE = \"unique_artwork\"\n",
    "\n",
    "bulkData = requests.get(\"https://api.scryfall.com/bulk-data\").json()\n",
    "for data in bulkData[\"data\"]:\n",
    "    if data[\"type\"] == DATATYPE:\n",
    "        break\n",
    "\n",
    "downloadRequest = requests.get(data[\"download_uri\"])\n",
    "with open(SCRYFALL_FILE, \"wb\") as outfile:\n",
    "    outfile.write(downloadRequest.content)\n",
    "    outfile.close()\n"
   ]
  },
  {
   "cell_type": "code",
   "execution_count": null,
   "metadata": {},
   "outputs": [],
   "source": [
    "import json\n",
    "import requests\n",
    "from progress import ProgressBar\n",
    "from os import mkdir\n",
    "from os.path import exists, join\n",
    "\n",
    "print(\"Parse Scryfall file\")\n",
    "\n",
    "scryfallFile = open(SCRYFALL_FILE)\n",
    "scryfallData = json.load(scryfallFile)\n",
    "scryfallFile.close()\n",
    "\n",
    "if not exists(REFS_FOLDER):\n",
    "    mkdir(REFS_FOLDER)\n",
    "\n",
    "tasks = []\n",
    "errors = []\n",
    "\n",
    "IMG_TYPE = \"art_crop\"  # png | border_crop | art_crop | large | normal | small\n",
    "\n",
    "progress = ProgressBar(len(scryfallData))\n",
    "\n",
    "for card in scryfallData:\n",
    "    try:\n",
    "        if (not \"oracle_id\" in card):\n",
    "            continue\n",
    "        if (not \"paper\" in card[\"games\"]):\n",
    "            continue\n",
    "        if \"image_uris\" in card:\n",
    "            tasks.append(\n",
    "                {\"id\": card[\"id\"], \"uri\": card[\"image_uris\"][IMG_TYPE]})\n",
    "        else:\n",
    "            if \"card_faces\" in card:\n",
    "                for face in card[\"card_faces\"]:\n",
    "                    tasks.append(\n",
    "                        {\"id\": card[\"id\"], \"uri\": face[\"image_uris\"][IMG_TYPE]})\n",
    "    except:\n",
    "        errors.append(card[\"scryfall_uri\"])\n",
    "    finally:\n",
    "        progress.tick()\n",
    "\n",
    "progress.stop()\n",
    "\n",
    "tasks = list(filter(lambda task: not exists(\n",
    "    join(REFS_FOLDER, task[\"id\"] + \".jpg\")), tasks))\n",
    "\n",
    "for error in errors:\n",
    "    print(\"An error happened on:\", error)\n",
    "\n",
    "print(\"Found %i images to download\" % (len(tasks)))\n",
    "\n",
    "progress = ProgressBar(len(tasks))\n",
    "for task in tasks:\n",
    "    downloadRequest = requests.get(task[\"uri\"])\n",
    "    with open(join(REFS_FOLDER, task[\"id\"] + \".jpg\"), \"wb\") as outfile:\n",
    "        outfile.write(downloadRequest.content)\n",
    "        outfile.close()\n",
    "        progress.tick()\n",
    "progress.stop()\n"
   ]
  },
  {
   "cell_type": "code",
   "execution_count": 2,
   "metadata": {},
   "outputs": [
    {
     "name": "stdout",
     "output_type": "stream",
     "text": [
      "Found 34179 images to describe\n",
      "[========================================] 100% | tot 1h 4m 20.73s | avg 112.96ms | est 0.00ms | 34179/34179       \n",
      "An error happened on: 70afd57f-d4cb-4219-a2c7-28ed9b1abe0f\n",
      "An error happened on: 60ecd9bf-757b-4eeb-bef3-0b9ad2e86fca\n"
     ]
    }
   ],
   "source": [
    "import sqlite3\n",
    "import cv2 as cv\n",
    "import numpy as np\n",
    "from os import listdir\n",
    "from os.path import join\n",
    "from progress import ProgressBar\n",
    "\n",
    "db = sqlite3.connect(DATABASE_FILE)\n",
    "cursor = db.cursor()\n",
    "\n",
    "cursor.execute(\n",
    "    \"CREATE TABLE IF NOT EXISTS descriptors (id INTEGER PRIMARY KEY AUTOINCREMENT, cardId VARCHAR(255), x FLOAT, y FLOAT, value TEXT)\")\n",
    "\n",
    "existingCardIds = cursor.execute(\n",
    "    \"SELECT DISTINCT cardId FROM descriptors\").fetchall()\n",
    "existingCardIds = set([id for id, in existingCardIds])\n",
    "\n",
    "tasks = []\n",
    "errors = []\n",
    "\n",
    "for filename in listdir(\"refs\"):\n",
    "    cardId = filename.split(\".\")[0]\n",
    "    if cardId in existingCardIds:\n",
    "        continue\n",
    "    tasks.append(cardId)\n",
    "\n",
    "print(\"Found %i images to describe\" % (len(tasks)))\n",
    "\n",
    "sift = cv.SIFT_create(200)\n",
    "\n",
    "progress = ProgressBar(len(tasks))\n",
    "for task in tasks:\n",
    "    try:\n",
    "        image = cv.imread(join(REFS_FOLDER, task + \".jpg\"),\n",
    "                          cv.IMREAD_GRAYSCALE)\n",
    "        kp, des = sift.detectAndCompute(image, None)\n",
    "        values = [\" \".join([str(int(i)) for i in d]) for d in des]\n",
    "        x = [p.pt[0] for p in kp]\n",
    "        y = [p.pt[1] for p in kp]\n",
    "        rows = [(task, x[i], y[i], values[i]) for i in range(len(kp))]\n",
    "        cursor.executemany(\n",
    "            \"INSERT INTO descriptors (cardId, x, y, value) VALUES (?, ?, ?, ?)\", rows)\n",
    "    except:\n",
    "        errors.append(task)\n",
    "    finally:\n",
    "        progress.tick()\n",
    "progress.stop()\n",
    "\n",
    "for error in errors:\n",
    "    print(\"An error happened on:\", error)\n",
    "\n",
    "db.commit()\n",
    "db.close()\n"
   ]
  },
  {
   "cell_type": "code",
   "execution_count": 12,
   "metadata": {},
   "outputs": [
    {
     "name": "stdout",
     "output_type": "stream",
     "text": [
      "Found 3415805 descriptors to index\n",
      "[========================================] 100% | tot 1m 49.78s | avg 0.000032 | est 0.000000 | 3415805/3415805     \n"
     ]
    }
   ],
   "source": [
    "import sqlite3\n",
    "import nmslib\n",
    "import cv2 as cv\n",
    "import numpy as np\n",
    "from progress import ProgressBar\n",
    "\n",
    "index = nmslib.init(\n",
    "    method='hnsw',\n",
    "    space='l2sqr_sift',\n",
    "    data_type=nmslib.DataType.DENSE_UINT8_VECTOR,\n",
    "    dtype=nmslib.DistType.INT\n",
    ")\n",
    "\n",
    "db = sqlite3.connect(DATABASE_FILE)\n",
    "cursor = db.cursor()\n",
    "\n",
    "count = cursor.execute(\"SELECT COUNT(*) FROM descriptors\").fetchone()[0]\n",
    "\n",
    "print(\"Found %i descriptors to index\" % (count))\n",
    "\n",
    "progress = ProgressBar(count)\n",
    "for id, value in cursor.execute(\"SELECT id, value FROM descriptors\"):\n",
    "    value = np.uint8(value.split(\" \"))\n",
    "    index.addDataPoint(id, value)\n",
    "    progress.tick()\n",
    "progress.stop()\n",
    "\n",
    "db.close()\n",
    "\n",
    "index.createIndex({\n",
    "    'M': 15,\n",
    "    'indexThreadQty': 4,\n",
    "    'efConstruction': 100,\n",
    "    'post': 0,\n",
    "}, True)\n",
    "index.saveIndex(INDEX_FILE, True)\n",
    "\n"
   ]
  },
  {
   "cell_type": "code",
   "execution_count": null,
   "metadata": {},
   "outputs": [],
   "source": []
  },
  {
   "cell_type": "markdown",
   "metadata": {},
   "source": [
    "---\n"
   ]
  },
  {
   "cell_type": "code",
   "execution_count": 3,
   "metadata": {},
   "outputs": [
    {
     "name": "stderr",
     "output_type": "stream",
     "text": [
      "Check failed: input Cannot open file 'index.bin.dat' for reading\n"
     ]
    },
    {
     "ename": "RuntimeError",
     "evalue": "Check failed: Cannot open file 'index.bin.dat' for reading",
     "output_type": "error",
     "traceback": [
      "\u001b[0;31m---------------------------------------------------------------------------\u001b[0m",
      "\u001b[0;31mRuntimeError\u001b[0m                              Traceback (most recent call last)",
      "\u001b[0;32m<ipython-input-3-8ad11d48685e>\u001b[0m in \u001b[0;36m<module>\u001b[0;34m\u001b[0m\n\u001b[1;32m     13\u001b[0m )\n\u001b[1;32m     14\u001b[0m \u001b[0;34m\u001b[0m\u001b[0m\n\u001b[0;32m---> 15\u001b[0;31m \u001b[0mindex\u001b[0m\u001b[0;34m.\u001b[0m\u001b[0mloadIndex\u001b[0m\u001b[0;34m(\u001b[0m\u001b[0mINDEX_FILE\u001b[0m\u001b[0;34m,\u001b[0m \u001b[0;32mTrue\u001b[0m\u001b[0;34m)\u001b[0m\u001b[0;34m\u001b[0m\u001b[0;34m\u001b[0m\u001b[0m\n\u001b[0m\u001b[1;32m     16\u001b[0m \u001b[0;34m\u001b[0m\u001b[0m\n\u001b[1;32m     17\u001b[0m \u001b[0mNeighbourCount\u001b[0m \u001b[0;34m=\u001b[0m \u001b[0;36m10\u001b[0m\u001b[0;34m\u001b[0m\u001b[0;34m\u001b[0m\u001b[0m\n",
      "\u001b[0;31mRuntimeError\u001b[0m: Check failed: Cannot open file 'index.bin.dat' for reading"
     ]
    }
   ],
   "source": [
    "import sqlite3\n",
    "import nmslib\n",
    "import cv2 as cv\n",
    "import numpy as np\n",
    "\n",
    "sift = cv.SIFT_create()\n",
    "\n",
    "index = nmslib.init(\n",
    "    method='hnsw',\n",
    "    space='l2sqr_sift',\n",
    "    data_type=nmslib.DataType.DENSE_UINT8_VECTOR,\n",
    "    dtype=nmslib.DistType.INT\n",
    ")\n",
    "\n",
    "index.loadIndex(INDEX_FILE, True)\n",
    "\n",
    "NeighbourCount = 10\n",
    "DistanceThreshold = 2e4\n",
    "MatchCountThreshold = 20\n",
    "\n",
    "def identity(imagePath):\n",
    "    image = cv.imread(imagePath,\n",
    "                      cv.IMREAD_GRAYSCALE)\n",
    "    kp, des = sift.detectAndCompute(image, None)\n",
    "    neighbours = index.knnQueryBatch(des.astype(\n",
    "        np.uint8), k=NeighbourCount, num_threads=4)\n",
    "\n",
    "    db = sqlite3.connect(DATABASE_FILE)\n",
    "    cursor = db.cursor()\n",
    "\n",
    "    matches = {}\n",
    "    for i in range(len(neighbours)):\n",
    "        neighbour = neighbours[i]\n",
    "        indices, distances = neighbour\n",
    "        for j in range(len(indices)):\n",
    "            if (distances[j] > DistanceThreshold):\n",
    "                continue\n",
    "            id = indices[j]\n",
    "            x, y, cardId = cursor.execute(\n",
    "                \"SELECT x, y, cardId FROM descriptors WHERE id = %i\" % (id)).fetchone()\n",
    "            if not cardId in matches:\n",
    "                matches[cardId] = []\n",
    "            matches[cardId].append(\n",
    "                [[x, y], kp[i].pt])\n",
    "\n",
    "    votes = {}\n",
    "    for label, points in matches.items():\n",
    "        if (len(points) < MatchCountThreshold):\n",
    "            continue\n",
    "        sourcePoints = np.float32([m[0] for m in points]).reshape(-1, 1, 2)\n",
    "        destPoint = np.float32([m[1] for m in points]).reshape(-1, 1, 2)\n",
    "        _, mask = cv.findHomography(\n",
    "            sourcePoints, destPoint, cv.RANSAC, 5.0)\n",
    "        votes[label] = np.sum(mask)\n",
    "\n",
    "    cursor.close()\n",
    "    db.close()\n",
    "\n",
    "    return sorted(votes.items(), reverse=True, key=lambda x: x[1])[:3]\n"
   ]
  },
  {
   "cell_type": "code",
   "execution_count": 4,
   "metadata": {},
   "outputs": [
    {
     "name": "stdout",
     "output_type": "stream",
     "text": [
      "===\n",
      "Test-bouncer.jpg\n"
     ]
    },
    {
     "ename": "NameError",
     "evalue": "name 'identity' is not defined",
     "output_type": "error",
     "traceback": [
      "\u001b[0;31m---------------------------------------------------------------------------\u001b[0m",
      "\u001b[0;31mNameError\u001b[0m                                 Traceback (most recent call last)",
      "\u001b[0;32m<ipython-input-4-28e49c1fbd77>\u001b[0m in \u001b[0;36m<module>\u001b[0;34m\u001b[0m\n\u001b[1;32m     12\u001b[0m     \u001b[0mimagePath\u001b[0m \u001b[0;34m=\u001b[0m \u001b[0mjoin\u001b[0m\u001b[0;34m(\u001b[0m\u001b[0mTESTS_FOLDER\u001b[0m\u001b[0;34m,\u001b[0m \u001b[0mfilename\u001b[0m\u001b[0;34m)\u001b[0m\u001b[0;34m\u001b[0m\u001b[0;34m\u001b[0m\u001b[0m\n\u001b[1;32m     13\u001b[0m     \u001b[0mstart\u001b[0m \u001b[0;34m=\u001b[0m \u001b[0mtime\u001b[0m\u001b[0;34m.\u001b[0m\u001b[0mtime\u001b[0m\u001b[0;34m(\u001b[0m\u001b[0;34m)\u001b[0m\u001b[0;34m\u001b[0m\u001b[0;34m\u001b[0m\u001b[0m\n\u001b[0;32m---> 14\u001b[0;31m     \u001b[0mmatches\u001b[0m \u001b[0;34m=\u001b[0m \u001b[0midentity\u001b[0m\u001b[0;34m(\u001b[0m\u001b[0mimagePath\u001b[0m\u001b[0;34m)\u001b[0m\u001b[0;34m\u001b[0m\u001b[0;34m\u001b[0m\u001b[0m\n\u001b[0m\u001b[1;32m     15\u001b[0m     \u001b[0mprint\u001b[0m\u001b[0;34m(\u001b[0m\u001b[0;34m\"Took %.2fs\"\u001b[0m \u001b[0;34m%\u001b[0m \u001b[0;34m(\u001b[0m\u001b[0mtime\u001b[0m\u001b[0;34m.\u001b[0m\u001b[0mtime\u001b[0m\u001b[0;34m(\u001b[0m\u001b[0;34m)\u001b[0m \u001b[0;34m-\u001b[0m \u001b[0mstart\u001b[0m\u001b[0;34m)\u001b[0m\u001b[0;34m)\u001b[0m\u001b[0;34m\u001b[0m\u001b[0;34m\u001b[0m\u001b[0m\n\u001b[1;32m     16\u001b[0m     \u001b[0;32mfor\u001b[0m \u001b[0mcardId\u001b[0m\u001b[0;34m,\u001b[0m \u001b[0mvotes\u001b[0m \u001b[0;32min\u001b[0m \u001b[0mmatches\u001b[0m\u001b[0;34m:\u001b[0m\u001b[0;34m\u001b[0m\u001b[0;34m\u001b[0m\u001b[0m\n",
      "\u001b[0;31mNameError\u001b[0m: name 'identity' is not defined"
     ]
    }
   ],
   "source": [
    "import time\n",
    "import json\n",
    "from os import listdir\n",
    "from os.path import join\n",
    "\n",
    "scryfallFile = open(SCRYFALL_FILE)\n",
    "scryfallData = json.load(scryfallFile)\n",
    "scryfallFile.close()\n",
    "\n",
    "for filename in listdir(TESTS_FOLDER):\n",
    "    print(\"===\\n%s\" % filename)\n",
    "    imagePath = join(TESTS_FOLDER, filename)\n",
    "    start = time.time()\n",
    "    matches = identity(imagePath)\n",
    "    print(\"Took %.2fs\" % (time.time() - start))\n",
    "    for cardId, votes in matches:\n",
    "        for card in scryfallData:\n",
    "            if card[\"id\"] == cardId:\n",
    "                break\n",
    "        print(\"%i votes for %s (%s) %s\" % (votes, card[\"name\"], cardId, card[\"scryfall_uri\"]))\n"
   ]
  },
  {
   "cell_type": "code",
   "execution_count": 32,
   "metadata": {},
   "outputs": [
    {
     "name": "stdout",
     "output_type": "stream",
     "text": [
      "[('7f41285b-5961-4653-96a0-fb6d27111390', 35), ('8f8abfc8-42bc-45ed-b99b-2c96e3b109a5', 11), ('d183cc80-a9ce-4290-bf65-f8202f508ac0', 9), ('ae9307a6-7eb1-4e20-afd4-8a723db89048', 8), ('e42a0a3d-a987-4b24-b9d4-27380a12e093', 8)]\n"
     ]
    }
   ],
   "source": [
    "imagePath = './tests/test-01.jpg'\n",
    "\n",
    "image = cv.imread(imagePath,\n",
    "                  cv.IMREAD_GRAYSCALE)\n",
    "kp, des = sift.detectAndCompute(image, None)\n",
    "neighbours = index.knnQueryBatch(des.astype(\n",
    "    np.uint8), k=NeighbourCount, num_threads=4)\n",
    "\n",
    "db = sqlite3.connect(DATABASE_FILE)\n",
    "cursor = db.cursor()\n",
    "\n",
    "matches = {}\n",
    "for i in range(len(neighbours)):\n",
    "    neighbour = neighbours[i]\n",
    "    indices, distances = neighbour\n",
    "    for j in range(len(indices)):\n",
    "        if (distances[j] > DistanceThreshold):\n",
    "            continue\n",
    "        id = indices[j]\n",
    "        x, y, cardId = cursor.execute(\n",
    "            \"SELECT x, y, cardId FROM descriptors WHERE id = %i\" % (id)).fetchone()\n",
    "        if not cardId in matches:\n",
    "            matches[cardId] = []\n",
    "        matches[cardId].append(\n",
    "            [(x, y), kp[i].pt])\n",
    "\n",
    "votes = {}\n",
    "for label, points in matches.items():\n",
    "    if (len(points) < MatchCountThreshold):\n",
    "        continue\n",
    "    sourcePoints = np.float32([m[0] for m in points]).reshape(-1, 1, 2)\n",
    "    destPoint = np.float32([m[1] for m in points]).reshape(-1, 1, 2)\n",
    "    _, mask = cv.findHomography(\n",
    "        sourcePoints, destPoint, cv.RANSAC, 5.0)\n",
    "    votes[label] = np.sum(mask)\n",
    "\n",
    "cursor.close()\n",
    "db.close()\n",
    "\n",
    "print(sorted(votes.items(), reverse=True, key=lambda x: x[1])[:5])"
   ]
  },
  {
   "cell_type": "code",
   "execution_count": null,
   "metadata": {},
   "outputs": [],
   "source": []
  },
  {
   "cell_type": "code",
   "execution_count": null,
   "metadata": {},
   "outputs": [],
   "source": []
  }
 ],
 "metadata": {
  "kernelspec": {
   "display_name": "Python 3.6.9 64-bit",
   "language": "python",
   "name": "python3"
  },
  "language_info": {
   "codemirror_mode": {
    "name": "ipython",
    "version": 3
   },
   "file_extension": ".py",
   "mimetype": "text/x-python",
   "name": "python",
   "nbconvert_exporter": "python",
   "pygments_lexer": "ipython3",
   "version": "3.6.9"
  },
  "orig_nbformat": 4,
  "vscode": {
   "interpreter": {
    "hash": "31f2aee4e71d21fbe5cf8b01ff0e069b9275f58929596ceb00d14d90e3e16cd6"
   }
  }
 },
 "nbformat": 4,
 "nbformat_minor": 2
}
